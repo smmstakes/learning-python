{
 "cells": [
  {
   "cell_type": "markdown",
   "metadata": {},
   "source": [
    "# Fundamentos do Python\n",
    "\n",
    "> NOTA: Será anotado apenas os conceitos que não possuo conhecimento prévio."
   ]
  },
  {
   "cell_type": "markdown",
   "metadata": {},
   "source": [
    "## Strings\n",
    "\n",
    "### Docstrings\n",
    "\n",
    "São strings que são utilizadas para documentar funções, métodos, classes e módulos. São utilizadas para descrever o que a função faz, quais são os parâmetros que ela recebe e o que ela retorna, ou seja, ajuda na compreensão do código sem ter que ler a implementação do código.\n",
    "\n",
    "> **NOTA:** As docstrings são definidas entre três aspas simples ou duplas.\n"
   ]
  },
  {
   "cell_type": "code",
   "execution_count": null,
   "metadata": {},
   "outputs": [],
   "source": [
    "\"\"\"\n",
    "Este é um exemplo de docstring\n",
    "\"\"\""
   ]
  },
  {
   "cell_type": "markdown",
   "metadata": {},
   "source": [
    "### F-strings\n",
    "\n",
    "É uma forma de formatar strings de forma mais simples e legível. Para utilizar as f-strings, basta colocar um `f` antes das aspas que delimitam a string e dentro das chaves colocar a variável que deseja imprimir.\n",
    "\n",
    "|Operador|Descrição|\n",
    "|---|---|\n",
    "|`{}`|Substitui a variável pelo seu valor.|\n",
    "|`{:.Xf}`|Formata o valor para X casas decimais.|\n",
    "|`{var:0>X}`|Adiciona '0' a esquerda da variável até completar X caracteres.|\n",
    "|`{var:0<X}`|Adiciona '0' a direita da variável até completar X caracteres.|\n",
    "|`{var:0^X}`|Adiciona '0' a esquerda e a direita da variável até completar X caracteres.|\n",
    "|`{var:08X}`|Transforma o numero em Hexa e adiciona 0 para completar 8 digitos.|\n"
   ]
  },
  {
   "cell_type": "markdown",
   "metadata": {},
   "source": [
    "### Fatiamanto de Strings\n",
    "\n",
    "O fatiamento é uma forma de pegar uma parte de uma string. Para fatiar uma string, basta colocar o índice inicial e o índice final separados por `:` dentro dos colchetes.\n",
    "\n",
    "> **NOTA:** O índice final não é incluído no fatiamento.\n"
   ]
  },
  {
   "cell_type": "code",
   "execution_count": null,
   "metadata": {},
   "outputs": [],
   "source": [
    "string = \"Olá, mundo!\"\n",
    "\n",
    "print(string[4:8])\n",
    "print(string[4:])\n",
    "\n",
    "print(string[:5])\n",
    "print(string[::3])\n",
    "print(string[::-1])"
   ]
  },
  {
   "cell_type": "code",
   "execution_count": null,
   "metadata": {},
   "outputs": [],
   "source": [
    "name = input(\"Digite seu nome: \")\n",
    "year = input(\"Digite sua idade:\")\n",
    "\n",
    "if(name and year):\n",
    "    print(f\"Seu nome é {name}\")\n",
    "    print(f\"Seu nome invertido é {name[::-1]}\")\n",
    "\n",
    "    if(\" \" in name):\n",
    "        print(\"Seu nome tem espaço\")\n",
    "    else:\n",
    "        print(\"Seu nome não tem espaço\")\n",
    "\n",
    "    print(f\"Seu nome tem {len(name)} letras\")\n",
    "    print(f\"A primeiro letra do seu nome é {name[0]}\")\n",
    "    print(f\"A última letra do seu nome é {name[-1]}\")\n",
    "\n",
    "else:   \n",
    "    print(\"Desculpe, você deixou campos vazios.\")"
   ]
  },
  {
   "cell_type": "markdown",
   "metadata": {},
   "source": [
    "---"
   ]
  },
  {
   "cell_type": "markdown",
   "metadata": {},
   "source": [
    "## Tipos Mutáveis\n",
    "\n",
    "### Listas\n",
    "\n",
    "As listas são coleções de elementos que podem ser de diferentes tipos. As listas são **mutáveis**, ou seja, é possível adicionar, remover e alterar elementos da lista.\n",
    "\n",
    "#### Métodos\n",
    "\n",
    "| Método | Descrição |\n",
    "|---|---|\n",
    "|`.append()`|Adiciona um elemento no final da lista.|\n",
    "|`.insert()`|Adiciona um elemento em uma posição específica.|\n",
    "|`del`|Remove um elemento da lista.|\n",
    "|`.pop()`|Captura o último valor e o remove do fim da lista;|\n",
    "|`.clear()`|Remove todos os elementos da lista.|\n",
    "|`.extend()`|Adiciona os elementos de uma lista a outra lista.|\n",
    "|`.copy()`|Copia os elementos de uma lista para outra.|\n"
   ]
  },
  {
   "cell_type": "markdown",
   "metadata": {},
   "source": [
    "### Desenpacotamento de Listas\n",
    "\n",
    "O desenpacotamento de listas é uma forma de atribuir os valores de uma lista a variáveis separadas.\n"
   ]
  },
  {
   "cell_type": "code",
   "execution_count": 4,
   "metadata": {},
   "outputs": [
    {
     "name": "stdout",
     "output_type": "stream",
     "text": [
      "João ['Maria', 'José', 'Pedro']\n"
     ]
    }
   ],
   "source": [
    "nome1, *_ = [\"João\", \"Maria\", \"José\", \"Pedro\"]\n",
    "print(nome1, _)"
   ]
  },
  {
   "cell_type": "markdown",
   "metadata": {},
   "source": [
    "### Tuplas\n",
    "\n",
    "As tuplas são coleções de elementos que podem ser de diferentes tipos. As tuplas são **imutáveis**, ou seja, não é possível adicionar, remover ou alterar elementos da tupla."
   ]
  },
  {
   "cell_type": "code",
   "execution_count": 5,
   "metadata": {},
   "outputs": [],
   "source": [
    "nomes1 = (\"João\", \"Maria\", \"José\", \"Pedro\")"
   ]
  },
  {
   "cell_type": "markdown",
   "metadata": {},
   "source": [
    "### Enumerate\n",
    "\n",
    "O enumerate é uma função que retorna um objeto interável enumerado. O objeto retornado é uma tupla que contém o índice e o valor do elemento.\n"
   ]
  },
  {
   "cell_type": "code",
   "execution_count": 6,
   "metadata": {},
   "outputs": [
    {
     "name": "stdout",
     "output_type": "stream",
     "text": [
      "(0, 'João')\n"
     ]
    }
   ],
   "source": [
    "nomes2 = enumerate(list(nomes1))\n",
    "\n",
    "print(next(nomes2))"
   ]
  },
  {
   "cell_type": "markdown",
   "metadata": {},
   "source": [
    "> **OBS:** Ao percorrer um objeto do tipo *iterator* o ponteiro é movido para o próximo elemento, ou seja, não é possível percorrer o objeto novamente."
   ]
  },
  {
   "cell_type": "code",
   "execution_count": null,
   "metadata": {},
   "outputs": [],
   "source": [
    "import os\n",
    "\n",
    "lista_compras = []\n",
    "while True:\n",
    "    print(\"-----------------------------------------------\")\n",
    "    print(\"Selecione uma opção:\")\n",
    "    opcao = input(\"[i]nseir, [a]pagar, [l]istar, [s]air: \")\n",
    "\n",
    "    if(opcao == \"i\"):\n",
    "        os.system(\"clear\")\n",
    "        compra = input(\"Digite o nome do produto: \")\n",
    "        lista_compras.append(compra)\n",
    "\n",
    "    elif(opcao == \"a\"):\n",
    "        try:\n",
    "            indice = int(input(\"Digite o índice do produto: \"))\n",
    "            lista_compras.pop(indice)\n",
    "        except ValueError:\n",
    "            print(\"Por favor, digite um número\")\n",
    "        except IndexError:\n",
    "            print(\"Por favor, digite um índice válido\")\n",
    "\n",
    "    elif(opcao == \"l\"):\n",
    "        if not lista_compras:\n",
    "            print(\"Lista de compras vazia\")\n",
    "            \n",
    "        for i, compra in enumerate(lista_compras):\n",
    "            print(f\"{i}: {compra}\")\n",
    "    \n",
    "    elif(opcao == \"s\"):\n",
    "        break\n",
    "\n",
    "    else:\n",
    "        print(\"Opção inválida\")"
   ]
  },
  {
   "cell_type": "markdown",
   "metadata": {},
   "source": [
    "---\n"
   ]
  },
  {
   "cell_type": "code",
   "execution_count": null,
   "metadata": {},
   "outputs": [],
   "source": [
    "import re\n",
    "\n",
    "cpf_s = input(\"Digite seu CPF: \")\n",
    "\n",
    "cpf_s = re.sub(r\"[^0-9]\", \"\", cpf_s)\n",
    "\n",
    "mult = 10\n",
    "sum = 0\n",
    "\n",
    "for digit in cpf_s[:9]:\n",
    "    sum += int(digit) * mult\n",
    "    mult -= 1 \n",
    "\n",
    "sum *= 10\n",
    "first_digit = (sum % 11) if (sum % 11) < 10 else 0\n",
    "\n",
    "print(first_digit)\n",
    "\n",
    "mult = 11\n",
    "sum = 0\n",
    "for digit in cpf_s[:10]:\n",
    "    sum += int(digit) * mult\n",
    "    mult -= 1\n",
    "\n",
    "sum *= 10\n",
    "second_digit = (sum % 11) if (sum % 11) < 10 else 0\n",
    "\n",
    "print(second_digit)\n"
   ]
  }
 ],
 "metadata": {
  "kernelspec": {
   "display_name": "Python 3",
   "language": "python",
   "name": "python3"
  },
  "language_info": {
   "codemirror_mode": {
    "name": "ipython",
    "version": 3
   },
   "file_extension": ".py",
   "mimetype": "text/x-python",
   "name": "python",
   "nbconvert_exporter": "python",
   "pygments_lexer": "ipython3",
   "version": "3.12.4"
  }
 },
 "nbformat": 4,
 "nbformat_minor": 2
}
