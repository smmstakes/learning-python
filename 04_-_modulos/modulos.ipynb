{
 "cells": [
  {
   "cell_type": "markdown",
   "metadata": {},
   "source": [
    "# Módulos em Python\n",
    "\n",
    "## Módulo `os`\n",
    "\n",
    "O módulo `os` do Python fornece funções para interagir com o sistema operacional, permitindo manipulação de arquivos, diretórios, processos e variáveis de ambiente. \n",
    "Ele é um módulo embutido na biblioteca padrão do Python e oferece uma interface para funcionalidades dependentes do SO.\n",
    "\n",
    "### `os.path`\n",
    "\n",
    "O módulo `os.path` fornece funções para manipulação de caminhos de arquivos e diretórios. Ele é usado para realizar operações comuns em caminhos de arquivos, como verificar se um arquivo ou diretório existe, obter o nome do arquivo a partir de um caminho, obter o diretório pai de um arquivo, etc.\n",
    "\n"
   ]
  },
  {
   "cell_type": "code",
   "execution_count": null,
   "metadata": {},
   "outputs": [
    {
     "name": "stdout",
     "output_type": "stream",
     "text": [
      "/home/matheusds/development/learning-python/04_-_modulos\n",
      ".\n"
     ]
    }
   ],
   "source": [
    "import os\n",
    "print(os.path.abspath(\".\"))   # Printa o caminho absoluto até o arquivo atual\n",
    "\n",
    "print(os.path.curdir)\n"
   ]
  }
 ],
 "metadata": {
  "kernelspec": {
   "display_name": "Python 3",
   "language": "python",
   "name": "python3"
  },
  "language_info": {
   "codemirror_mode": {
    "name": "ipython",
    "version": 3
   },
   "file_extension": ".py",
   "mimetype": "text/x-python",
   "name": "python",
   "nbconvert_exporter": "python",
   "pygments_lexer": "ipython3",
   "version": "3.12.9"
  }
 },
 "nbformat": 4,
 "nbformat_minor": 2
}
