{
 "cells": [
  {
   "cell_type": "markdown",
   "metadata": {},
   "source": [
    "# Intermediário\n",
    "\n",
    "## Funções\n",
    "\n",
    "São chamadas de funções em Python, blocos de código que são executados quando chamados. As funções são definidas com a palavra-chave `def` seguida do nome da função e dos parênteses `()`. As funções podem ter argumentos que são passados para a função, e podem retornar um valor.\n",
    "\n",
    "> **OBS:** Por padrão as funções em python sempre retornam `None` caso não tenha um `return` explícito.\n",
    "\n",
    "### Argumentos\n",
    "\n",
    "São valores passados para a função. Existem 4 tipos de argumentos em Python:\n",
    "\n",
    "- **Argumentos padrão:** São argumentos que possuem um valor padrão, caso não seja passado um valor para o argumento.\n",
    "- **Argumentos posicionais:** São argumentos passados para a função na ordem em que foram definidos.\n",
    "- **Argumentos nomeados:** São argumentos que são passados para a função com o nome do argumento.\n",
    "- **Argumentos arbitrários:** São argumentos que podem receber um número arbitrário de valores."
   ]
  },
  {
   "cell_type": "code",
   "execution_count": 1,
   "metadata": {},
   "outputs": [
    {
     "name": "stdout",
     "output_type": "stream",
     "text": [
      "10\n"
     ]
    }
   ],
   "source": [
    "def soma(x: int, y: int, z: int = 0) -> int:\n",
    "    return x + y + z\n",
    "\n",
    "print(soma(1, 2, 7))"
   ]
  },
  {
   "cell_type": "markdown",
   "metadata": {},
   "source": [
    "#### `*args`\n",
    "\n",
    "`*args` é um argumento arbitrário que permite passar um número arbitrário de argumentos para a função, ou argumentos não nomeados. Os valores passados são armazenados em uma tupla. Se houver outros argumentos na função, `*args` deve ser o último argumento.\n",
    "\n",
    ">**NOTA:** Para delimitar a quantidade de parametros posicionais, pode-se utilizar `/` para separar os argumentos, ou seja, tudo que vier antes de `/` vai ser posicional e o restante será argumento nomeado.\n",
    "\n",
    "#### `**kwargs` - Keyword Arguments\n",
    "\n",
    "`**kwargs` são argumentos nomeados que permitem passar um número arbitrário de argumentos nomeados para a função. Os valores passados são armazenados em um dicionário. Se houver outros argumentos na função, `**kwargs` deve ser o último argumento.\n",
    "\n",
    ">**NOTA:** Para delimitar a quantidade de parametros nomeados, pode-se utilizar `*` para separar os argumentos, ou seja, tudo que vier depois de `*` vai ser posicional e o restante será argumento nomeado."
   ]
  },
  {
   "cell_type": "code",
   "execution_count": null,
   "metadata": {},
   "outputs": [],
   "source": [
    "def soma(*args):\n",
    "    return sum(args)\n",
    "\n",
    "print(soma(1, 2, 7))\n",
    "\n",
    "def mostrar_args(*args, **kwargs):\n",
    "    print(args)\n",
    "    for chave, valor in kwargs.items():\n",
    "        print(f'{chave}: {valor}')\n",
    "    \n",
    "mostrar_args(1, 2, 3, nome='Lucas', idade=25)"
   ]
  },
  {
   "cell_type": "markdown",
   "metadata": {},
   "source": [
    "### Escopo\n",
    "\n",
    "O escopo de uma variável é o contexto em que a variável foi definida. Existem dois tipos de escopo em Python:\n",
    "\n",
    "- **Escopo local:** Variáveis definidas dentro de uma função são locais e só podem ser acessadas dentro da função.\n",
    "- **Escopo global:** Variáveis definidas fora de uma função são globais e podem ser acessadas em qualquer lugar do código.\n",
    "\n",
    "> **OBS:** A palavra-chave `global` é usada para declarar uma variável global dentro de uma função.\n",
    "\n",
    "### Higher Order Functions e First Class Functions\n",
    "\n",
    "- **Higher Order Functions:** Funções que podem receber e/ou retornar outras funções\n",
    "- **First-Class Functions:** Funções que são tratadas como outros tipos de dados comuns (strings, inteiros, etc...)\n",
    "\n",
    "### Closure\n",
    "\n",
    "É uma função interna que lembra o ambiente em que foi criada. Isso significa que a função interna pode acessar variáveis da função externa mesmo após a função externa ter terminado de executar."
   ]
  },
  {
   "cell_type": "code",
   "execution_count": 3,
   "metadata": {},
   "outputs": [
    {
     "name": "stdout",
     "output_type": "stream",
     "text": [
      "15\n"
     ]
    }
   ],
   "source": [
    "def soma_x(x):\n",
    "    def soma_y(y):\n",
    "        return x + y\n",
    "    return soma_y\n",
    "\n",
    "closure = soma_x(10)\n",
    "print(closure(5))"
   ]
  },
  {
   "cell_type": "markdown",
   "metadata": {},
   "source": [
    "---"
   ]
  },
  {
   "cell_type": "markdown",
   "metadata": {},
   "source": [
    "## Dict\n",
    "\n",
    "Dicionários são uma especie de *estrutura de dados*, que funciona como uma coleção de pares chave-valor. As chaves são únicas e imutáveis, podem ser consideradas como \"índice\", e os valores são mutáveis.\n",
    "\n",
    "### Métodos Úteis\n",
    "\n",
    "- **`dict.get(key, default)`**: Retorna o valor da chave `key` se ela existir no dicionário, caso contrário retorna o valor `default`, ou `None` caso não informe um valor.\n",
    "- **`dict.keys()`**:  Retorna um iterável com as chaves do dicionário.\n",
    "- **`dict.values()`**: Retorna um iterável com os valores do dicionário.\n",
    "- **`dict.items()`**: Retorna um iterável com os pares chave-valor do dicionário.\n",
    "- **`dict.setdefault(key, default)`**: Retorna o valor da chave `key` se ela existir no dicionário, caso contrário insere a chave com o valor `default` e retorna o valor `default`.\n",
    "- **`dict.copy`**: Retorna uma cópia rasa do dicionário (*shallow copy*).\n",
    "  -  Caso o dicionário tenha valores mutáveis, a cópia rasa irá apontar para os mesmos valores do dicionário original.\n",
    "- **`dict.pop()`**: Remove a chave do dicionário e retorna o valor correspondente.\n",
    "- **`dict.popitem()`**: Remove e retorna o último par chave-valor do dicionário.\n",
    "\n",
    "> **OBS:** O *desempacotamento* de um dict é realizado com o uso de `**`."
   ]
  },
  {
   "cell_type": "code",
   "execution_count": 4,
   "metadata": {},
   "outputs": [
    {
     "name": "stdout",
     "output_type": "stream",
     "text": [
      "Qual a capital do Brasil?\n",
      "1 - São Paulo\n",
      "2 - Rio de Janeiro\n",
      "3 - Brasília\n",
      "4 - Belo Horizonte\n"
     ]
    },
    {
     "ename": "ValueError",
     "evalue": "invalid literal for int() with base 10: ''",
     "output_type": "error",
     "traceback": [
      "\u001b[1;31m---------------------------------------------------------------------------\u001b[0m",
      "\u001b[1;31mValueError\u001b[0m                                Traceback (most recent call last)",
      "Cell \u001b[1;32mIn[4], line 32\u001b[0m\n\u001b[0;32m     30\u001b[0m \u001b[38;5;28;01mfor\u001b[39;00m i, option \u001b[38;5;129;01min\u001b[39;00m \u001b[38;5;28menumerate\u001b[39m(q[\u001b[38;5;124m\"\u001b[39m\u001b[38;5;124moptions\u001b[39m\u001b[38;5;124m\"\u001b[39m]):\n\u001b[0;32m     31\u001b[0m     \u001b[38;5;28mprint\u001b[39m(\u001b[38;5;124mf\u001b[39m\u001b[38;5;124m\"\u001b[39m\u001b[38;5;132;01m{\u001b[39;00mi\u001b[38;5;250m \u001b[39m\u001b[38;5;241m+\u001b[39m\u001b[38;5;250m \u001b[39m\u001b[38;5;241m1\u001b[39m\u001b[38;5;132;01m}\u001b[39;00m\u001b[38;5;124m - \u001b[39m\u001b[38;5;132;01m{\u001b[39;00moption\u001b[38;5;132;01m}\u001b[39;00m\u001b[38;5;124m\"\u001b[39m)\n\u001b[1;32m---> 32\u001b[0m answer \u001b[38;5;241m=\u001b[39m \u001b[38;5;28;43mint\u001b[39;49m\u001b[43m(\u001b[49m\u001b[38;5;28;43minput\u001b[39;49m\u001b[43m(\u001b[49m\u001b[38;5;124;43m\"\u001b[39;49m\u001b[38;5;124;43mDigite a opção correta: \u001b[39;49m\u001b[38;5;124;43m\"\u001b[39;49m\u001b[43m)\u001b[49m\u001b[43m)\u001b[49m\n\u001b[0;32m     34\u001b[0m \u001b[38;5;28;01mif\u001b[39;00m q[\u001b[38;5;124m\"\u001b[39m\u001b[38;5;124moptions\u001b[39m\u001b[38;5;124m\"\u001b[39m][answer \u001b[38;5;241m-\u001b[39m \u001b[38;5;241m1\u001b[39m] \u001b[38;5;241m==\u001b[39m q[\u001b[38;5;124m\"\u001b[39m\u001b[38;5;124manswer\u001b[39m\u001b[38;5;124m\"\u001b[39m]:\n\u001b[0;32m     35\u001b[0m     \u001b[38;5;28mprint\u001b[39m(\u001b[38;5;124m\"\u001b[39m\u001b[38;5;124mVocê acertou!\u001b[39m\u001b[38;5;124m\"\u001b[39m)\n",
      "\u001b[1;31mValueError\u001b[0m: invalid literal for int() with base 10: ''"
     ]
    }
   ],
   "source": [
    "import os\n",
    "\n",
    "question = [\n",
    "    {\n",
    "        \"qst\": \"Qual a capital do Brasil?\",\n",
    "        \"options\": [\"São Paulo\", \"Rio de Janeiro\", \"Brasília\", \"Belo Horizonte\"],\n",
    "        \"answer\": \"Brasília\"\n",
    "    },\n",
    "    {\n",
    "        \"qst\": \"Qual a capital da Argentina?\",\n",
    "        \"options\": [\"Buenos Aires\", \"Santiago\", \"Montevidéu\", \"Assunção\"],\n",
    "        \"answer\": \"Buenos Aires\"\n",
    "    },\n",
    "    {\n",
    "        \"qst\": \"Qual a capital do Paraguai?\",\n",
    "        \"options\": [\"Buenos Aires\", \"Santiago\", \"Montevidéu\", \"Assunção\"],\n",
    "        \"answer\": \"Assunção\"\n",
    "    },\n",
    "    {\n",
    "        \"qst\": \"Qual a capital do Uruguai?\",\n",
    "        \"options\": [\"Buenos Aires\", \"Santiago\", \"Montevidéu\", \"Assunção\"],\n",
    "        \"answer\": \"Montevidéu\"\n",
    "    }\n",
    "]\n",
    "\n",
    "correct = 0\n",
    "for q in question:\n",
    "    os.system(\"cls\")\n",
    "    print(q[\"qst\"])\n",
    "    for i, option in enumerate(q[\"options\"]):\n",
    "        print(f\"{i + 1} - {option}\")\n",
    "    answer = int(input(\"Digite a opção correta: \"))\n",
    "\n",
    "    if q[\"options\"][answer - 1] == q[\"answer\"]:\n",
    "        print(\"Você acertou!\")\n",
    "        correct += 1\n",
    "    else:\n",
    "        print(\"Você errou!\")\n",
    "print()\n",
    "\n",
    "print(f\"Você acertou {correct} de {len(question)} questões.\")"
   ]
  },
  {
   "cell_type": "markdown",
   "metadata": {},
   "source": [
    "---"
   ]
  },
  {
   "cell_type": "markdown",
   "metadata": {},
   "source": [
    "## Set (Conjuntos)\n",
    "\n",
    "São coleções não ordenadas de elementos únicos, possuem as mesmas características de um conjunto matemático, ou seja, pode realizar operações de união, interseção, diferença, etc... É uma coleção mutável, mas os elementos devem ser imutáveis.\n",
    "\n",
    "##### Características\n",
    "- **São** interáveis.\n",
    "- **Não** é ordenado.\n",
    "- **Não** tem índice.\n",
    "- **Não** aceita elementos duplicados.\n",
    "\n",
    "### Métodos Úteis\n",
    "\n",
    "- **`set.add()`**: Adiciona um elemento ao conjunto.\n",
    "- **`set.update()`**: Adiciona vários elementos ao conjunto.\n",
    "- **`set.clear()`**: Remove todos os elementos do conjunto.\n",
    "- **`set.discard()`**: Remove um elemento do conjunto, caso ele exista.\n",
    "\n",
    "### Operadores \n",
    "\n",
    "- **`|`**: União, retorna um conjunto com todos os elementos dos dois conjuntos.\n",
    "- **`&`**: Interseção, retorna um conjunto com os elementos que estão presentes nos dois conjuntos.\n",
    "- **`-`**: Diferença, retorna um conjunto com os elementos que estão presentes no primeiro conjunto e não no segundo.\n",
    "- **`^`**: Diferença Simétrica, retorna um conjunto com todos os elementos que não estão presentes nos dois conjuntos."
   ]
  },
  {
   "cell_type": "code",
   "execution_count": null,
   "metadata": {},
   "outputs": [],
   "source": [
    "num_lists = [\n",
    "    [1, 2, 3, 4, 5, 6, 7, 8, 9, 10],\n",
    "    [9, 1, 8, 9, 9, 7, 2, 1, 6, 8],\n",
    "    [1, 3, 2, 2, 8, 6, 5, 9, 6, 7],\n",
    "    [3, 8, 2, 8, 6, 7, 7, 3, 1, 9],\n",
    "    [4, 8, 8, 8, 5, 1, 10, 3, 1, 7],\n",
    "    [1, 3, 7, 2, 2, 1, 5, 1, 9, 9],\n",
    "    [10, 2, 2, 1, 3, 5, 10, 5, 10, 1],\n",
    "    [1, 6, 1, 5, 1, 1, 1, 4, 7, 3],\n",
    "    [1, 3, 7, 1, 10, 5, 9, 2, 5, 7],\n",
    "    [4, 7, 6, 5, 2, 9, 2, 1, 2, 1],\n",
    "    [5, 3, 1, 8, 5, 7, 1, 8, 8, 7],\n",
    "    [10, 9, 8, 7, 6, 5, 4, 3, 2, 1],\n",
    "]\n",
    "\n",
    "def first_duplicate_number(numbers):\n",
    "    set_num = set()\n",
    "\n",
    "    for n in numbers:\n",
    "        if n in set_num:\n",
    "            return n\n",
    "        set_num.add(n)\n",
    "    \n",
    "    return -1\n",
    "\n",
    "for numbers in num_lists:\n",
    "    print(first_duplicate_number(numbers))"
   ]
  },
  {
   "cell_type": "markdown",
   "metadata": {},
   "source": [
    "---"
   ]
  },
  {
   "cell_type": "markdown",
   "metadata": {},
   "source": [
    "## Função Lambda\n",
    "\n",
    "São funções anônimas, ou seja, são funções sem nome. São definidas com a palavra-chave `lambda` seguida dos argumentos e do corpo da função. São úteis para funções simples que são usadas apenas uma vez."
   ]
  },
  {
   "cell_type": "code",
   "execution_count": null,
   "metadata": {},
   "outputs": [],
   "source": [
    "def executa(func, *args):\n",
    "    return func(*args)\n",
    "\n",
    "def soma(x, y):\n",
    "    return x + y\n",
    "\n",
    "print(\n",
    "    executa(\n",
    "        lambda x, y: x + y,\n",
    "        2,\n",
    "        3\n",
    "    )\n",
    ")\n",
    "\n",
    "def cria_mult(m):\n",
    "    def mult(n):\n",
    "        return m * n\n",
    "    return mult\n",
    "\n",
    "\n",
    "duplica = executa(\n",
    "    lambda m: lambda n: m * n,\n",
    "    2\n",
    ")\n",
    "\n",
    "print(duplica(2))"
   ]
  },
  {
   "cell_type": "markdown",
   "metadata": {},
   "source": [
    "---"
   ]
  },
  {
   "cell_type": "markdown",
   "metadata": {},
   "source": [
    "## List Comprehension\n",
    "\n",
    "É uma maneira compacta para processas elementos em sequencia e retornar uma lista com os resultados. Ele permite que você crie listas novas aplicando uma expressão a cada item de uma sequência (como uma lista ou um range) e, opcionalmente, filtrando itens com uma condição.\n",
    "\n",
    ">**OBS:** Expressões a esquerda do `for` são consideradas *mapeamentos* e condições a direita são consideradas como *filtros*."
   ]
  },
  {
   "cell_type": "code",
   "execution_count": null,
   "metadata": {},
   "outputs": [],
   "source": [
    "quadrados = [x**2 for x in range(10)]\n",
    "print(quadrados)\n",
    "\n",
    "quadrados_pares = [x**2 for x in range(10) if x % 2 == 0]\n",
    "print(quadrados_pares)\n",
    "\n",
    "matriz_identidade = [[1 if i == j else 0 for j in range(3)] for i in range(3)]\n",
    "print(matriz_identidade)\n",
    "\n",
    "pares = [(x, y) for x in range(3) for y in range(3) if x != y]\n",
    "\n",
    "print(pares)"
   ]
  },
  {
   "cell_type": "markdown",
   "metadata": {},
   "source": [
    "### Mapeamento e `.map()`\n",
    "\n",
    "O mapeamento está relacionado com a aplicação de uma função a cada elemento de uma sequência. Em Python, podemos utilizar a função `.map()` para aplicar uma função a cada elemento de um interavél.\n",
    "\n",
    "> **OBS**: A função `map()` retorna um objeto do tipo `map`, que é um iterável. Para visualizar o resultado, é necessário converter o objeto para uma lista, por exemplo.\n",
    "> **IMPORTANTE:** O mapeamento sempre será relacionado com outro interavel com a mesma quantidade de elementos."
   ]
  },
  {
   "cell_type": "code",
   "execution_count": null,
   "metadata": {},
   "outputs": [],
   "source": [
    "nums = [1, 2, 3, 4, 5, 6, 7, 8, 9, 10]\n",
    "nums = list(map(lambda x: x**2, nums))\n",
    "\n",
    "print(nums)"
   ]
  },
  {
   "cell_type": "markdown",
   "metadata": {},
   "source": [
    "---"
   ]
  },
  {
   "cell_type": "markdown",
   "metadata": {},
   "source": [
    "## Funções Geradoras\n",
    "\n",
    "São uma forma especial de função que permite gerar uma sequência de valores ao invés de retornar um único valor. Elas são usadas para iterar sobre grandes conjuntos de dados de forma eficiente, sem precisar carregar tudo na memória de uma vez."
   ]
  },
  {
   "cell_type": "code",
   "execution_count": null,
   "metadata": {},
   "outputs": [],
   "source": [
    "def contar_ate(n):\n",
    "    contador = 0\n",
    "    while contador <= n:\n",
    "        yield contador\n",
    "        contador += 1\n",
    "\n",
    "for numero in contar_ate(5):\n",
    "    print(numero)\n",
    "\n",
    "print(\"------------------\")\n",
    "\n",
    "def gen1():\n",
    "    yield 1\n",
    "    yield 2\n",
    "    yield 3\n",
    "\n",
    "def gen2():\n",
    "    yield from gen1()\n",
    "    yield 4\n",
    "    yield 5\n",
    "    yield 6\n",
    "\n",
    "for i in gen2():\n",
    "    print(i)\n",
    "   "
   ]
  },
  {
   "cell_type": "markdown",
   "metadata": {},
   "source": [
    "---"
   ]
  },
  {
   "cell_type": "markdown",
   "metadata": {},
   "source": [
    "## `Try`, `Except`, `Else`, `Finally` e `Raise`\n",
    "\n",
    "São usados para tratar exceções, que são erros que ocorrem durante a execução do programa. Esse mecanismo permite que você capture e lide com esses erros de forma controlada, evitando que o programa termine de forma abrupta e oferecendo a possibilidade de realizar ações de limpeza ou liberar recursos, independentemente de o erro ter ocorrido ou não.\n",
    "\n",
    "### `Try`\n",
    "\n",
    "É onde você coloca o código que pode potencialmente causar uma exceção. Se ocorrer uma exceção dentro do bloco try, a execução é imediatamente interrompida e passa para o bloco except.\n",
    "\n",
    "### `Except`\n",
    "\n",
    "É onde você define como lidar com a exceção. Você pode capturar exceções específicas ou todas as exceções.\n",
    "\n",
    "### `Else`\n",
    "\n",
    "É opcional e é executado se nenhuma exceção foi levantada. É útil para executar código que deve ser executado apenas se nenhuma exceção foi levantada.\n",
    "\n",
    "### `Finally`\n",
    "\n",
    "É opcional e é executado sempre, independentemente de uma exceção ter sido levantada ou não. É útil para realizar tarefas de limpeza, como fechar arquivos ou liberar recursos.\n",
    "\n",
    "### `Raise`\n",
    "\n",
    "É usado para levantar uma exceção manualmente. Você pode levantar exceções específicas ou genéricas."
   ]
  },
  {
   "cell_type": "code",
   "execution_count": null,
   "metadata": {},
   "outputs": [],
   "source": [
    "try:\n",
    "    num = int(input(\"Digite um número: \"))\n",
    "    resultado = 10 / num\n",
    "except ValueError:\n",
    "    print(\"Você precisa digitar um número válido.\")\n",
    "except ZeroDivisionError:\n",
    "    print(\"Erro: divisão por zero!\")\n",
    "else:\n",
    "    print(f\"O resultado é {resultado:.4f}\")\n",
    "finally:\n",
    "    print(\"Fim do programa.\")\n",
    "\n",
    "def divide(a, b):\n",
    "    if b == 0:\n",
    "        raise ZeroDivisionError(\"Divisão por zero!\")\n",
    "    return a / b"
   ]
  },
  {
   "cell_type": "markdown",
   "metadata": {},
   "source": [
    "---"
   ]
  },
  {
   "cell_type": "markdown",
   "metadata": {},
   "source": [
    "## Singleton\n",
    "\n",
    "É um padrão de projeto que garante que uma classe tenha apenas uma instância e fornece um ponto de acesso global para essa instância. É útil quando você deseja ter uma única instância de uma classe em todo o programa.\n",
    "\n",
    "> **OBS:** Os módulos em Python são singletons por padrão."
   ]
  },
  {
   "cell_type": "markdown",
   "metadata": {},
   "source": [
    "---"
   ]
  },
  {
   "cell_type": "markdown",
   "metadata": {},
   "source": [
    "## Módulos e Pacotes\n",
    "\n",
    "### Módulos\n",
    "\n",
    "São arquivos que contêm definições e instruções em Python. Eles podem definir funções, classes e variáveis, e também podem incluir instruções executáveis.\n",
    "\n",
    "### Pacotes\n",
    "\n",
    "São diretórios que contêm um ou mais módulos. Eles são usados para organizar e reutilizar código em Python. Um pacote é um diretório que contém um arquivo especial chamado `__init__.py`, que informa ao Python que o diretório é um pacote."
   ]
  },
  {
   "cell_type": "code",
   "execution_count": null,
   "metadata": {},
   "outputs": [],
   "source": [
    "import copy as cp\n",
    "\n",
    "produtos = [\n",
    "    {'nome': 'Produto 5', 'preco': 10.00},\n",
    "    {'nome': 'Produto 1', 'preco': 22.32},\n",
    "    {'nome': 'Produto 3', 'preco': 10.11},\n",
    "    {'nome': 'Produto 2', 'preco': 105.87},\n",
    "    {'nome': 'Produto 4', 'preco': 69.90},\n",
    "]\n",
    "\n",
    "novos_produtos = cp.deepcopy(produtos)\n",
    "\n",
    "for p in novos_produtos\n",
    "    p['preco'] = round(p['preco'] * 1.1, 2)\n",
    "\n",
    "produtos_ordenados_por_nome = sorted(produtos, key=lambda p: p['nome'], reverse=True)\n",
    "produtos_ordenados_por_preco = sorted(produtos, key=lambda p: p['preco'])\n",
    "\n",
    "print(*produtos, sep='\\n')\n",
    "print()\n",
    "print(*novos_produtos, sep='\\n')\n",
    "print()\n",
    "print(*produtos_ordenados_por_nome, sep='\\n')\n",
    "print()\n",
    "print(*produtos_ordenados_por_preco, sep='\\n')"
   ]
  },
  {
   "cell_type": "markdown",
   "metadata": {},
   "source": [
    "---"
   ]
  },
  {
   "cell_type": "markdown",
   "metadata": {},
   "source": [
    "## Decorators\n",
    "\n",
    "São uma maneira poderosa de modificar o comportamento de funções ou métodos. Eles permitem \"envolver\" uma função com outra, adicionando ou alterando funcionalidades sem modificar o código original da função decorada. Usando `@` antes de uma função, você pode aplicar facilmente um decorator, tornando o código mais modular e reutilizável.\n",
    "\n",
    "#### Usos Comuns de Decorators\n",
    "\n",
    "- **Autenticação e Autorização**: Verificar permissões antes de executar uma função.\n",
    "- **Logging**: Registrar chamadas de função, parâmetros e resultados.\n",
    "- **Caching**: Armazenar em cache os resultados de funções para melhorar o desempenho.\n",
    "- **Medição de Tempo**: Medir o tempo que uma função leva para ser executada.\n",
    "\n",
    "### Syntax Sugar\n",
    "\n",
    "É um termo  para descrever uma sintaxe que torna o código mais legível, em outras palavras, é uma forma de simplificar a escrita do código, permitindo que seja escrito algo de maneira mais elegante, concisa e elegante, embora o resultado seja equivalente a uma versão mais \"desenvolvida\" ou \"explícita\" do código.\n",
    "\n",
    "#### Benefícios\n",
    "\n",
    "- **Legibilidade**: Torna o código mais limpo, conciso e fácil de entender.\n",
    "- **Manutenção**: Facilita a manutenção do código, pois expressa operações comuns de forma mais clara.\n",
    "- **Produtividade**: Permite que os programadores escrevam código mais rapidamente, com menos chance de erros.\n",
    "- **Abstração**: Esconde a complexidade dos detalhes de implementação, permitindo que os desenvolvedores se concentrem na lógica de alto nível."
   ]
  },
  {
   "cell_type": "code",
   "execution_count": null,
   "metadata": {},
   "outputs": [],
   "source": [
    "def meu_decorator(funcao):\n",
    "    def wrapper(*args, **kwargs):\n",
    "        print(\"Algo acontece antes da função ser chamada.\")\n",
    "        resultado = funcao(*args, **kwargs)\n",
    "        print(\"Algo acontece depois da função ser chamada.\")\n",
    "        return resultado\n",
    "    return wrapper\n",
    "\n",
    "@meu_decorator\n",
    "def saudacao(nome):\n",
    "    print(f\"Olá, {nome}!\")\n",
    "\n",
    "saudacao(\"Matheus\")"
   ]
  },
  {
   "cell_type": "code",
   "execution_count": null,
   "metadata": {},
   "outputs": [],
   "source": [
    "def decoradora(func):\n",
    "    print(\"Decoradora 1\")\n",
    "\n",
    "    def aninhhada(*args, **kwargs):\n",
    "        print(\"Aninhada\")\n",
    "        res = func(*args, **kwargs)\n",
    "        return res\n",
    "    return aninhhada\n",
    "    \n",
    "@decoradora\n",
    "def soma(x, y):\n",
    "    return x + y\n",
    "\n",
    "total = soma(1, 2)\n",
    "print(total)"
   ]
  },
  {
   "cell_type": "code",
   "execution_count": null,
   "metadata": {},
   "outputs": [],
   "source": [
    "def fabrica_de_decoradores(a=None, b=None, c=None):\n",
    "    def fabrica_de_funcoes(func):\n",
    "        print('Decoradora 1')\n",
    "\n",
    "        def aninhada(*args, **kwargs):\n",
    "            print('Parâmetros do decorador, ', a, b, c)\n",
    "            print('Aninhada')\n",
    "            res = func(*args, **kwargs)\n",
    "            return res\n",
    "        return aninhada\n",
    "    return fabrica_de_funcoes\n",
    "\n",
    "\n",
    "@fabrica_de_decoradores(1, 2, 3)\n",
    "def soma(x, y):\n",
    "    return x + y\n",
    "\n",
    "\n",
    "decoradora = fabrica_de_decoradores()\n",
    "multiplica = decoradora(lambda x, y: x * y)\n",
    "\n",
    "dez_mais_cinco = soma(10, 5)\n",
    "dez_vezes_cinco = multiplica(10, 5)"
   ]
  },
  {
   "cell_type": "code",
   "execution_count": null,
   "metadata": {},
   "outputs": [],
   "source": [
    "def zipper(list1, list2):\n",
    "    max_range = range(min(len(list1), len(list2)))\n",
    "    return [(list1[i], list2[i]) for i in max_range]\n",
    "\n",
    "list1 = [\"a\", 'b', 'c']\n",
    "list2 = [1, 2, 3, 4]\n",
    "\n",
    "print(zipper(list1, list2))\n",
    "\n",
    "l1 = [1, 2, 3, 4, 5, 6]\n",
    "l2 = [10, 21, 32, 43, 54]\n",
    "l3 = [x + y for x, y in zipper(l1, l2)]\n",
    "\n",
    "print(list(l3))\n"
   ]
  },
  {
   "cell_type": "markdown",
   "metadata": {},
   "source": [
    "---"
   ]
  },
  {
   "cell_type": "markdown",
   "metadata": {},
   "source": [
    "## Itertools (módulo)\n",
    "\n",
    "- `Count`: Retorna um iterador que gera números inteiros indefinidamente.\n",
    "- `Combinations`: Retorna combinações de `r` itens de um iterável.\n",
    "- `Permutations`: Retorna permutações de `r` itens de um iterável.\n",
    "- `Product`: Retorna o produto cartesiano de dois ou mais iteráveis.\n",
    "- `Groupby`: Agrupa elementos consecutivos em um iterável com base em uma chave."
   ]
  },
  {
   "cell_type": "markdown",
   "metadata": {},
   "source": [
    "---"
   ]
  },
  {
   "cell_type": "markdown",
   "metadata": {},
   "source": [
    "## Map, Filter e Reduce\n",
    "\n",
    "### `Map`\n",
    "\n",
    "Aplica uma função a cada item de um iterável (lista, tupla, etc...) e retorna um iterador com os resultados.\n",
    "\n",
    "### `Filter`\n",
    "\n",
    "Filtra os elementos de um iterável com base em uma função que retorna `True` ou `False`.\n",
    "\n",
    "### `Reduce`\n",
    "\n",
    "Aplica uma função a pares de elementos de um iterável, reduzindo-os a um único valor."
   ]
  },
  {
   "cell_type": "code",
   "execution_count": null,
   "metadata": {},
   "outputs": [],
   "source": [
    "from functools import reduce\n",
    "\n",
    "num1 = [1, 2, 3, 4]\n",
    "\n",
    "print(list(map(lambda x: x * 4, num1)))\n",
    "\n",
    "print(list(filter(lambda x: x % 2 == 0, num1)))\n",
    "\n",
    "print(reduce(lambda ac, val: ac+pow(val,2)+2, num1, 0))"
   ]
  },
  {
   "cell_type": "markdown",
   "metadata": {},
   "source": [
    "---"
   ]
  },
  {
   "cell_type": "markdown",
   "metadata": {},
   "source": [
    "## Funções Recursivas\n",
    "\n",
    "São funções que chamam a si mesmas durante a execução. Elas são úteis para resolver problemas que podem ser divididos.\n",
    "\n",
    "> **OBS:** É importante definir uma condição de parada para evitar que a função entre em um loop infinito."
   ]
  },
  {
   "cell_type": "code",
   "execution_count": null,
   "metadata": {},
   "outputs": [],
   "source": [
    "def fatorial(n):\n",
    "    if n <= 1:\n",
    "        return 1\n",
    "    return n * fatorial(n-1)\n",
    "\n",
    "print(fatorial(6))"
   ]
  },
  {
   "cell_type": "markdown",
   "metadata": {},
   "source": [
    "---"
   ]
  },
  {
   "cell_type": "markdown",
   "metadata": {},
   "source": [
    "## Ambientes Virtuais (venv)\n",
    "\n",
    "### O que são?\n",
    "\n",
    "Ambientes virtuais são uma ferramenta para manter as dependências de um projeto isoladas de outros projetos. Eles permitem que você instale pacotes em um ambiente isolado, sem interferir no sistema ou em outros projetos.\n",
    "\n",
    "### Por que usar?\n",
    "\n",
    "- **Isolamento**: Evita conflitos entre dependências de diferentes projetos.\n",
    "- **Reprodutibilidade**: Garante que o projeto funcione da mesma forma em diferentes ambientes.\n",
    "- **Limpeza**: Facilita a remoção de dependências, evitando que elas sejam instaladas no sistema.\n",
    "- **Segurança**: Evita que pacotes maliciosos afetem o sistema ou outros projetos.\n",
    "- **Organização**: Facilita a gestão de dependências e a manutenção de projetos.\n",
    "'\n",
    "### Utilizando o ambiente virtual\n",
    "\n",
    "```bash\n",
    "# Criar um ambiente virtual\n",
    "python -m venv 'nome_do_ambiente'\n",
    "\n",
    "# Ativar o ambiente virtual\n",
    "nome_do_ambiente\\Script\\activate        # Windows\n",
    "source nome_do_ambiente/bin/activate    # Linux\n",
    "\n",
    "# Desativar o ambiente virtual\n",
    "deactivate\n",
    "```\n",
    "\n",
    "### Gerenciando pacotes (pip)\n",
    "\n",
    "O `pip` é o gerenciador de pacotes  padrão para Python. Ele é utilizado para instalar, atualizar e gerenciar bibliotecas e pacotes Python que não são incluídos na biblioteca padrão.\n",
    "\n",
    "```bash\n",
    "# Instalar pacotes no ambiente virtual\n",
    "pip install 'nome_do_pacote'\n",
    "\n",
    "# Desinstalar pacotes no ambiente virtual\n",
    "pip uninstall 'nome_do_pacote' -y\n",
    "\n",
    "# Listar pacotes instalados no ambiente virtual\n",
    "pip freeze\n",
    "```\n",
    "\n",
    "### Criando um arquivo de dependências (requirements.txt)\n",
    "\n",
    "Esse arquivo de dependências é útil para compartilhar as dependências de um projeto com outras pessoas. Ele contém uma lista de pacotes e suas versões que podem ser instaladas com o comando: \n",
    "\n",
    "```bash\n",
    "# Salvar pacotes instalados em um arquivo\n",
    "pip freeze > requirements.txt\n",
    "\n",
    "# Instalar pacotes a partir de um arquivo\n",
    "pip install -r requirements.txt\n",
    "```"
   ]
  },
  {
   "cell_type": "markdown",
   "metadata": {},
   "source": [
    "---"
   ]
  },
  {
   "cell_type": "markdown",
   "metadata": {},
   "source": [
    "## Criando arquivos\n",
    "\n",
    "### Caminhos\n",
    "\n",
    "Os caminhos de arquivos em Python podem ser especificados de duas maneiras:\n",
    "\n",
    "- **Absoluto**: O caminho completo do arquivo, começando na raiz do sistema de arquivos.\n",
    "- **Relativo**: O caminho do arquivo em relação ao diretório atual.\n",
    "\n",
    "> **NOTA:** Em Python, os caminhos de arquivos são especificados usando barras invertidas (`\\`) no Windows e barras (`/`) em outros sistemas operacionais.\n",
    "\n",
    "### Abrindo arquivos\n",
    "\n",
    "Para abrir um arquivo em Python, você pode usar a função `open()`, que retorna um objeto de arquivo. A função `open()` aceita dois argumentos: o caminho do arquivo e o modo de abertura.\n",
    "\n",
    "#### Modos de Abertura\n",
    "\n",
    "- **`x`:** Abre o arquivo para ***criação***.\n",
    "  - *Falha se o arquivo já existir*.\n",
    "- **`r`:** Abre o arquivo para ***leitura***. \n",
    "  - *O arquivo deve existir*.\n",
    "- **`w`:** Abre o arquivo para ***escrita***.\n",
    "- **`a`:** Abre o arquivo para ***anexar*** (adicionar conteúdo ao final do arquivo).\n",
    "- **`b`:** Modo ***binário***.\n",
    "\n",
    ">**NOTA:** Adicionar um `+` ao modo de abertura permite que o arquivo seja aberto para leitura e escrita.\n",
    "\n",
    "#### Context Manager (`with`)\n",
    "\n",
    "O gerenciador de contexto `with` é usado para garantir que os recursos sejam liberados automaticamente quando não são mais necessários. Ele é útil para abrir e fechar arquivos, conexões de banco de dados, sockets, etc.\n",
    "\n",
    "### Editando arquivos\n",
    "\n",
    "- **`.write()`:** Escreve uma string no arquivo.\n",
    "  - Para adicionar uma nova linha em sistema Windows, use `\\r\\n`.\n",
    "- **`.writelines()`:** Escreve uma lista de strings no arquivo.\n",
    "- **`.read()`:** Lê o conteúdo do arquivo.\n",
    "- **`.readlines`** Lê as linhas do arquivo e retorna uma lista.\n",
    "- **`.seek()`:** Move o cursor para uma posição específica no arquivo."
   ]
  },
  {
   "cell_type": "markdown",
   "metadata": {},
   "source": [
    "---"
   ]
  },
  {
   "cell_type": "markdown",
   "metadata": {},
   "source": [
    "## Utilizando JSON\n",
    "\n",
    "JSON é um formato de dados popular que é fácil de ler e escrever para humanos e fácil de analisar e gerar para máquinas. Em Python, você pode trabalhar com JSON usando o módulo `json`."
   ]
  },
  {
   "cell_type": "code",
   "execution_count": null,
   "metadata": {},
   "outputs": [],
   "source": [
    "import json\n",
    "\n",
    "pessoa = {\n",
    "    \"nome\": \"Alice\",\n",
    "    \"idade\": 25,\n",
    "    \"genero\": \"Feminino\",\n",
    "    \"endereco\": \"Brasilia\",\n",
    "    \"telefone\": \"99999-9999\",\n",
    "    \"email\": \"alice@example.com\",\n",
    "    \"profissão\": \"Engenheira\"\n",
    "}\n",
    "\n",
    "with open(\".\\\\arq_testes\\\\pessoa.json\", \"w\", encoding=\"utf-8\") as arq:\n",
    "    json.dump(pessoa, arq, ensure_ascii=False,indent=2)\n",
    "\n",
    "\n",
    "with open(\".\\\\arq_testes\\\\pessoa.json\", \"r\", encoding=\"utf-8\") as arq:\n",
    "    pessoa = json.load(arq)\n",
    "    print(pessoa)\n"
   ]
  },
  {
   "cell_type": "markdown",
   "metadata": {},
   "source": [
    "---"
   ]
  },
  {
   "cell_type": "markdown",
   "metadata": {},
   "source": [
    "## Exercícios"
   ]
  },
  {
   "cell_type": "code",
   "execution_count": null,
   "metadata": {},
   "outputs": [],
   "source": []
  },
  {
   "cell_type": "code",
   "execution_count": null,
   "metadata": {},
   "outputs": [],
   "source": []
  },
  {
   "cell_type": "markdown",
   "metadata": {},
   "source": [
    "---"
   ]
  }
 ],
 "metadata": {
  "kernelspec": {
   "display_name": "Python 3",
   "language": "python",
   "name": "python3"
  },
  "language_info": {
   "codemirror_mode": {
    "name": "ipython",
    "version": 3
   },
   "file_extension": ".py",
   "mimetype": "text/x-python",
   "name": "python",
   "nbconvert_exporter": "python",
   "pygments_lexer": "ipython3",
   "version": "3.12.4"
  }
 },
 "nbformat": 4,
 "nbformat_minor": 2
}
